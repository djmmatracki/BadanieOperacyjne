{
 "cells": [
  {
   "cell_type": "code",
   "execution_count": 1,
   "metadata": {},
   "outputs": [],
   "source": [
    "import numpy as np\n",
    "import matplotlib.pyplot as plt"
   ]
  },
  {
   "cell_type": "markdown",
   "metadata": {},
   "source": [
    "Dominik Matracki 408558\n",
    "\n",
    "# Problem plecakowy 0-1 KP\n",
    "\n",
    "Mamy plecak o maksymalnej pojemnosci $B$ oraz zbior $N$ elementow. Kazdy element charakteryzuje sie zyskiem oraz waga. Dyskretny problem plecakowy:\n",
    "\n",
    "- Maksymalizuj zysk $\\sum^n_{j=1}c_jx_j$\n",
    "- Przy ograniczeniach wagi $B$ $\\sum^n_{j=1}a_jx_j \\le B$\n",
    ",$x_j \\in {0, 1}$\n",
    "\n",
    "\n",
    "## Przyklad problemu plecakowego\n",
    "\n",
    "$x_1 + 3x_2 + 2x_3 + 2x_4 -> max$\n",
    "\n",
    "$x_1 + 4x_2 + 3x_3 + 3x_4 \\le 7$"
   ]
  },
  {
   "cell_type": "code",
   "execution_count": 3,
   "metadata": {},
   "outputs": [],
   "source": [
    "from typing import List\n",
    "\n",
    "def maxArg(array: List[int]):\n",
    "    if len(array) == 0:\n",
    "        return\n",
    "\n",
    "    maximum = -np.inf\n",
    "    arg = None\n",
    "    for i, el in enumerate(array):\n",
    "        if el > maximum:\n",
    "            arg = i\n",
    "            maximum = el\n",
    "    return arg, maximum\n",
    "\n",
    "\n",
    "def binaryKP(weights, prices, capacity):\n",
    "    n = len(weights)\n",
    "    table = [[0 for _ in range(capacity+2)] for _ in range(n+1)]\n",
    "\n",
    "    # Tworze tabele zyskow\n",
    "    for i in range(1, n+1):\n",
    "        for w in range(1, capacity+2):\n",
    "            if 0 < w-weights[i-1] < capacity + 1:\n",
    "                table[i][w] = max(table[i-1][w], table[i-1][w-weights[i-1]] + prices[i-1])\n",
    "                continue\n",
    "            table[i][w] = table[i-1][w]\n",
    "\n",
    "    # Find max in last row\n",
    "    arg, maximum = maxArg(table[-1])\n",
    "    print(\"Tablica: \\n\", np.array(table))\n",
    "    print(\"Maksymalna wartosc zysku: \", maximum)\n",
    "\n",
    "    # Ukladam sciezke\n",
    "    currentPrice = maximum\n",
    "    i = n\n",
    "    result = [0 for _ in range(n)]\n",
    "    while i > 0:\n",
    "        if table[i][arg] != table[i-1][arg]:\n",
    "            result[i-1] = 1\n",
    "            currentPrice -= p[i-1]\n",
    "            arg = table[i-1].index(currentPrice)\n",
    "        i -= 1\n",
    "    return result\n",
    "    "
   ]
  },
  {
   "cell_type": "code",
   "execution_count": 4,
   "metadata": {},
   "outputs": [
    {
     "name": "stdout",
     "output_type": "stream",
     "text": [
      "Tablica: \n",
      " [[ 0  0  0  0  0  0  0  0  0]\n",
      " [ 0  0  1  1  1  1  1  1  1]\n",
      " [ 0  0  1  1  1  3  4  4  4]\n",
      " [ 0  0  1  1  2  3  4  4  5]\n",
      " [ 0  0  1  1  2  3  4  4  5]\n",
      " [ 0  0  9 10 10 11 12 13 13]\n",
      " [ 0  0  9 10 12 13 13 14 15]\n",
      " [ 0  0  9 10 13 14 16 17 17]\n",
      " [ 0  0  9 10 13 14 16 17 17]\n",
      " [ 0  0  9 10 13 14 16 17 17]\n",
      " [ 0  0  9 10 13 14 16 17 17]]\n",
      "Maksymalna wartosc zysku:  17\n"
     ]
    },
    {
     "data": {
      "text/plain": [
       "[1, 0, 0, 0, 1, 1, 1, 0, 0, 0]"
      ]
     },
     "execution_count": 4,
     "metadata": {},
     "output_type": "execute_result"
    }
   ],
   "source": [
    "w = [1, 4, 3, 3, 1, 2, 2, 5, 3, 5]\n",
    "p = [1, 3, 2, 2, 9, 3, 4, 4, 2, 4]\n",
    "binaryKP(w, p, 7)"
   ]
  },
  {
   "cell_type": "markdown",
   "metadata": {},
   "source": [
    "## Zadanie 3\n",
    "\n",
    "**Jakie zalozenia musza byc spelnione dla wag oraz zyskow?**\n",
    "**Co stanie sie jesli te zalozenia nie spelnimy?**\n",
    "\n",
    "Wagi oraz zyski musza byc dodatnie, poniwaz gdyby wagi byly ujemne to mozliwe by bylo dodawanie wszystkich przedmiotow oraz natychmiastowe uzyskanie najlepszego zysku. Natomiast gdyby zyski byly ujemne to nieoptymlane byloby dodawanie jakiegokolwiek przemiotu.\n",
    "\n",
    "**Jaka jest zlozonosc obliczeniowa algorytmu?**\n",
    "\n",
    "Zlozonosc obliczeniowa algorytmu wynosi $O(B \\cdot n)$, gdzie $n$ - liczba przedmiotow, $B$ - pojemnosc."
   ]
  }
 ],
 "metadata": {
  "interpreter": {
   "hash": "820f51727f103be1762627cc0b637529f4bd87549bb183629dc0e3c29bf24b16"
  },
  "kernelspec": {
   "display_name": "Python 3.9.7 ('venv': venv)",
   "language": "python",
   "name": "python3"
  },
  "language_info": {
   "codemirror_mode": {
    "name": "ipython",
    "version": 3
   },
   "file_extension": ".py",
   "mimetype": "text/x-python",
   "name": "python",
   "nbconvert_exporter": "python",
   "pygments_lexer": "ipython3",
   "version": "3.9.7"
  },
  "orig_nbformat": 4
 },
 "nbformat": 4,
 "nbformat_minor": 2
}
