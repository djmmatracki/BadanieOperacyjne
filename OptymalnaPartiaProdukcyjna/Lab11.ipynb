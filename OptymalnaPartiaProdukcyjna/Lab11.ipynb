{
 "cells": [
  {
   "cell_type": "code",
   "execution_count": 1,
   "metadata": {},
   "outputs": [],
   "source": [
    "import numpy as np"
   ]
  },
  {
   "cell_type": "code",
   "execution_count": 2,
   "metadata": {},
   "outputs": [],
   "source": [
    "def OPR(cost_production, cost_storage, req_products, number_of_months, min_storage, max_storage, ending_storage):\n",
    "    mat_choose = np.zeros((max_storage - min_storage + 1, number_of_months))\n",
    "    mat_profit = np.zeros((max_storage - min_storage + 1, number_of_months))\n",
    "\n",
    "    ## Inicjalizacja 1 kolumny\n",
    "    for i in range(mat_choose.shape[0]):\n",
    "        choose = ending_con + req_products[-1] - (i + min_storage)\n",
    "        if choose >= 0:\n",
    "            mat_choose[i,0] = choose\n",
    "            mat_profit[i,0] = cost_production[choose]\n",
    "        else:\n",
    "            mat_choose[i,0] = np.inf\n",
    "            mat_profit[i,0] = np.inf\n",
    "\n",
    "    # print(mat_profit)\n",
    "    for i in range(1,mat_choose.shape[1]):## kolumny\n",
    "        for j in range(mat_choose.shape[0]): ## wiersze\n",
    "            val = 255\n",
    "            pos = 0\n",
    "            for k in range(len(cost_production) + 1):\n",
    "                if (k > min_storage + req[-i-1] - (j + min_storage)) and (k < max_storage + req[-i-1] - (j + min_storage)) and (k < max_storage):\n",
    "                    val_help = cost_production[k] + cost_storage[k + j - req[-i-1]] + mat_profit[k+j-req[-i-1] - 1,i-1]\n",
    "                    # print(f\"({i},{j}),  {k}: {val_help}\")\n",
    "                    if val_help < val:\n",
    "                        val = val_help\n",
    "                        pos = k\n",
    "            if pos >= 0 and val != 255:\n",
    "                mat_choose[j,i] = pos\n",
    "                mat_profit[j,i] = val\n",
    "            else:\n",
    "                mat_choose[j,i] = np.inf\n",
    "                mat_profit[j,i] = np.inf\n",
    "\n",
    "\n",
    "    return mat_choose, mat_profit"
   ]
  },
  {
   "cell_type": "code",
   "execution_count": 3,
   "metadata": {},
   "outputs": [],
   "source": [
    "def find_optimal_solution(mat_choose, mat_profit, req_products, start, min_storage):\n",
    "    optimal_solution = []\n",
    "    \n",
    "    value_to_choose = mat_choose[start - min_storage,-1] ## wartosc produkcji \n",
    "    optimal_solution.append(value_to_choose)\n",
    "    storage = start + value_to_choose - req_products[0] ## ile ma przejsc do magazynu \n",
    "    for i in range(1,mat_choose.shape[1]):\n",
    "        # print(value_to_choose)\n",
    "        if value_to_choose == np.inf:\n",
    "            return ['Impossible']\n",
    "        # print(value_to_choose)\n",
    "        value_to_choose = mat_choose[int(storage) - min_storage,-i-1]\n",
    "        optimal_solution.append(value_to_choose)\n",
    "        storage += value_to_choose - req_products[i]\n",
    "        \n",
    "    return optimal_solution\n"
   ]
  },
  {
   "cell_type": "code",
   "execution_count": 4,
   "metadata": {},
   "outputs": [],
   "source": [
    "## koszt produckji\n",
    "cost = [0,5,7,8,15,20,15,14]\n",
    "\n",
    "## koszt skladowania\n",
    "cost_storage = [0,5,9,10,11,12,13,14,13]\n",
    "\n",
    "## Zapotrzebowanie\n",
    "req = [3,1,1,4,3,3,5,7,5,5,4,3,1]\n",
    "\n",
    "min_storage = 1\n",
    "max_storage = len(cost_storage) - 1\n",
    "\n",
    "starting_con = 4\n",
    "ending_con = 7\n",
    "number_of_months = 12\n"
   ]
  },
  {
   "cell_type": "code",
   "execution_count": 5,
   "metadata": {},
   "outputs": [
    {
     "name": "stdout",
     "output_type": "stream",
     "text": [
      "[[ 7.  4.  7.  6.  6. inf  7.  4.  7.  7.  2.  2.]\n",
      " [ 6.  3.  7.  7.  6.  7.  6.  3.  7.  7.  1.  1.]\n",
      " [ 5.  2.  7.  7.  7.  6.  6.  2.  3.  3.  0.  0.]\n",
      " [ 4.  1.  3.  3.  3.  7.  4.  1.  2.  2.  0.  0.]\n",
      " [ 3.  0.  2.  2.  2.  7.  3.  0.  0.  1.  0.  0.]\n",
      " [ 2.  0.  0.  1.  1.  3.  2.  0.  0.  0.  0.  0.]\n",
      " [ 1.  2.  0.  0.  0.  2.  1.  0.  0.  0.  0.  0.]\n",
      " [ 0.  1.  0.  0.  0.  1.  0.  1.  0.  0.  0.  0.]]\n",
      "[[ 14.  34.  50.  70.  90.  inf 132. 152. 167. 186. 198. 210.]\n",
      " [ 15.  27.  49.  69.  93. 109. 133. 145. 163. 186. 196. 208.]\n",
      " [ 20.  26.  45.  69.  88. 110. 135. 144. 162. 180. 191. 203.]\n",
      " [ 15.  24.  44.  63.  83. 112. 133. 142. 161. 179. 195. 205.]\n",
      " [  8.  19.  43.  62.  82. 108. 126. 137. 157. 177. 190. 201.]\n",
      " [  7.  24.  39.  60.  80. 103. 125. 142. 154. 172. 190. 206.]\n",
      " [  5.  27.  36.  55.  75. 102. 123. 145. 154. 172. 189. 202.]\n",
      " [  0.  25.  36.  58.  78. 100. 118. 143. 153. 172. 185. 203.]]\n"
     ]
    }
   ],
   "source": [
    "mat_c, mat_p = OPR(cost,cost_storage,req,number_of_months,min_storage,max_storage,ending_con)\n",
    "print(mat_c)\n",
    "print(mat_p)"
   ]
  },
  {
   "cell_type": "code",
   "execution_count": 262,
   "metadata": {},
   "outputs": [
    {
     "name": "stdout",
     "output_type": "stream",
     "text": [
      "[0.0, 2.0, 7.0, 0.0, 1.0, 6.0, 7.0, 0.0, 0.0, 7.0, 0.0, 7.0]\n"
     ]
    }
   ],
   "source": [
    "opt_choose = find_optimal_solution(mat_c,mat_p,req,starting_con, min_storage)\n",
    "print(opt_choose)"
   ]
  }
 ],
 "metadata": {
  "interpreter": {
   "hash": "820f51727f103be1762627cc0b637529f4bd87549bb183629dc0e3c29bf24b16"
  },
  "kernelspec": {
   "display_name": "Python 3.9.7 ('venv': venv)",
   "language": "python",
   "name": "python3"
  },
  "language_info": {
   "codemirror_mode": {
    "name": "ipython",
    "version": 3
   },
   "file_extension": ".py",
   "mimetype": "text/x-python",
   "name": "python",
   "nbconvert_exporter": "python",
   "pygments_lexer": "ipython3",
   "version": "3.9.7"
  },
  "orig_nbformat": 4
 },
 "nbformat": 4,
 "nbformat_minor": 2
}
