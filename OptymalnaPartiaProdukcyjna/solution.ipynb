{
 "cells": [
  {
   "cell_type": "markdown",
   "metadata": {},
   "source": [
    "Dominik Matracki 408558\n",
    "\n",
    "# Programowanie dynamiczne – Wyznaczanie optymalnej wielkości partii produkcyjnej"
   ]
  },
  {
   "cell_type": "code",
   "execution_count": null,
   "metadata": {},
   "outputs": [],
   "source": [
    "import numpy as np"
   ]
  },
  {
   "cell_type": "code",
   "execution_count": null,
   "metadata": {},
   "outputs": [],
   "source": [
    "def production_partion(storage_cost, cost, products, max_storage, min_storage, period, initial, final):\n",
    "    # Tworzymy tabele ktora nastepnie bedziemy uzupelniali\n",
    "    result = np.zeros((max_storage-min_storage+1, 2*period+1))\n",
    "\n",
    "    f_col = 2\n",
    "    x_col = 1\n",
    "    production_number = len(cost) - 1\n",
    "    etap = period - 1\n",
    "\n",
    "    # Uzupelniamy pierwsza kolumne aby zapewnic koncowa ilosc produktow\n",
    "    for i in range(min_storage, max_storage-min_storage+1):\n",
    "        if final - i + products[-1] < 0 or final - i + products[-1] >= len(cost):\n",
    "            result[i-min_storage][2] = np.inf\n",
    "            continue\n",
    "        x = final - i + products[-1]\n",
    "        result[i-min_storage][1] = x\n",
    "        result[i-min_storage][2] = cost[x]# + storage_cost[final]\n",
    "    \n",
    "    f_col += 2\n",
    "    x_col += 2\n",
    "    etap -= 1\n",
    "\n",
    "    # Iterujemy po kolumnach\n",
    "    while f_col < 2*period + 1:\n",
    "        # Iterujemy po wierszach\n",
    "        for y in range(min_storage, max_storage-min_storage+2):\n",
    "            # Oznaczamy minimalny koszt jako nieskonczonosc\n",
    "            minimal = np.inf\n",
    "            product_count = 0\n",
    "\n",
    "            # Iterujemy po mozliwych ilosciach i znajdujemy minimalne\n",
    "\n",
    "            for x in range(max(0, min_storage-y+products[etap], products[etap]-y), min(production_number, max_storage-y+products[etap])+1):\n",
    "                if result[x+y-min_storage-products[etap]][f_col-2] == np.inf:\n",
    "                    continue\n",
    "\n",
    "                if x+y-products[etap] < 0 or x+y-products[etap] >= len(storage_cost):\n",
    "                    continue\n",
    "\n",
    "                if x+y-min_storage-products[etap] < 0 or x+y-min_storage-products[etap] >= len(result):\n",
    "                    continue\n",
    "\n",
    "                value = cost[x] + storage_cost[x+y-products[etap]] + result[x+y-min_storage-products[etap]][f_col-2]\n",
    "            \n",
    "                if value < minimal:\n",
    "                    minimal = value\n",
    "                    product_count = x\n",
    "\n",
    "            if y-min_storage == 6:\n",
    "                print(minimal)\n",
    "            # Jezeli znalezlismy rozwiazanie to zapisujemy je do tabeli\n",
    "            # if minimal != np.inf:\n",
    "            result[y-min_storage][f_col] = minimal # Wartosc funkcji\n",
    "            result[y-min_storage][x_col] = product_count # Pojemnosc\n",
    "            # # Jezeli nie znalezlismy minimalnego rozwiazania to oznaczamy je jako -1\n",
    "            # else:\n",
    "            #     result[y-min_storage][f_col] = np.inf\n",
    "        f_col += 2\n",
    "        x_col += 2\n",
    "        etap -= 1\n",
    "    \n",
    "    print(\"Macierz decyzji optymalnych: \\n\")\n",
    "    for row in result:\n",
    "        print(list(row))\n",
    "    # print(\"Minimalny koszt realizacji: \", result[initial][period*2])\n",
    "    # # Inicjalizujemy liste w ktorej bedziemy trzymali rozwiazanie\n",
    "    # months = [0 for _ in range(period)]\n",
    "    # k = 0\n",
    "    # # Zaczynamy od wartosci ktora zostala podana w zadaniu\n",
    "    # row = initial\n",
    "    # x_col = period*2 - 1\n",
    "    # while k < period:\n",
    "    #     months[k] = result[row][x_col]\n",
    "    #     row = max(int(result[row][x_col]+row-products[k]), 0)\n",
    "    #     x_col -= 2\n",
    "    #     k += 1\n",
    "    # print(\"Optymalna licza produkcji: \", months)\n"
   ]
  },
  {
   "cell_type": "code",
   "execution_count": null,
   "metadata": {},
   "outputs": [],
   "source": [
    "cost = [0, 5, 7, 8, 15, 20, 15, 14]\n",
    "storage_cost = [0, 5, 9, 10, 11, 12, 13, 14, 13]\n",
    "products = [3, 1, 1, 4, 3, 3, 5, 7, 5, 5, 4, 3, 1]\n",
    "min_storage = 1\n",
    "max_storage = len(storage_cost) - 1\n",
    "initial = 4\n",
    "final = 7\n",
    "period = 12\n",
    "\n",
    "# storage_cost, cost, products, max_storage, min_storage, period, initial, final\n",
    "production_partion(\n",
    "    storage_cost=storage_cost,\n",
    "    cost=cost,\n",
    "    products=products,\n",
    "    max_storage=max_storage,\n",
    "    min_storage=min_storage,\n",
    "    period=period,\n",
    "    initial=initial,\n",
    "    final=final\n",
    ")"
   ]
  },
  {
   "cell_type": "markdown",
   "metadata": {},
   "source": [
    "### Zlozonosc obliczeniowa algorytmu\n",
    "\n",
    "$O(storage^2 \\cdot months)$\n",
    "\n",
    "\n",
    "### Jakie modyfikacje zagadnienia można dodać, aby rozszerzyć i bardziej dostosować model problemu do rzeczywistych uwarunkowań produkcyjnych?\n",
    "\n",
    "Zwykle koszt wykonania dla roznych produktow jest inny wiec mozna by bylo precyzowac wartosc produktu oraz koszt produkcji wraz z minimalnym zapotrzebowanie danych produktow.\n"
   ]
  }
 ],
 "metadata": {
  "interpreter": {
   "hash": "820f51727f103be1762627cc0b637529f4bd87549bb183629dc0e3c29bf24b16"
  },
  "kernelspec": {
   "display_name": "Python 3.9.7 ('venv': venv)",
   "language": "python",
   "name": "python3"
  },
  "language_info": {
   "codemirror_mode": {
    "name": "ipython",
    "version": 3
   },
   "file_extension": ".py",
   "mimetype": "text/x-python",
   "name": "python",
   "nbconvert_exporter": "python",
   "pygments_lexer": "ipython3",
   "version": "3.9.7"
  },
  "orig_nbformat": 4
 },
 "nbformat": 4,
 "nbformat_minor": 2
}
