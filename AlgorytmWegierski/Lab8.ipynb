{
 "cells": [
  {
   "cell_type": "markdown",
   "metadata": {},
   "source": [
    "# Zagadnienia przedzialu - algorytm wegierski\n",
    "\n",
    "Dominik Matracki <br>\n",
    "Patryk Lyczko <br>\n",
    "Michal Rola <br>"
   ]
  },
  {
   "cell_type": "code",
   "execution_count": 3,
   "metadata": {},
   "outputs": [],
   "source": [
    "import numpy as np"
   ]
  },
  {
   "cell_type": "code",
   "execution_count": 4,
   "metadata": {},
   "outputs": [],
   "source": [
    "mat = np.array([[0,np.nan,1,np.nan,6],\n",
    "                [1,6,2,0,3],\n",
    "                [0,1,0,4,0],\n",
    "                [3,9,0,4,np.nan],\n",
    "                [0,0,1,3,np.nan]])\n",
    "\n",
    "mat_gl = np.array([[5,2,3,2,7],\n",
    "                    [6,8,4,2,5],\n",
    "                    [6,4,3,7,2],\n",
    "                    [6,9,0,4,0],\n",
    "                    [4,1,2,4,0]])"
   ]
  },
  {
   "cell_type": "code",
   "execution_count": 5,
   "metadata": {},
   "outputs": [],
   "source": [
    "def reduce_matrix(M, inplace=False):\n",
    "    \"\"\"Reduces rows and columns\"\"\"\n",
    "    if inplace:\n",
    "        result = M\n",
    "    else:\n",
    "        result = M.copy()\n",
    "\n",
    "    for row in result:\n",
    "        row -= min(row)\n",
    "\n",
    "    result -= np.min(result, axis=0)\n",
    "    if not inplace: return result\n"
   ]
  },
  {
   "cell_type": "code",
   "execution_count": 6,
   "metadata": {},
   "outputs": [
    {
     "data": {
      "text/plain": [
       "array([[0, 0, 1, 0, 5],\n",
       "       [1, 6, 2, 0, 3],\n",
       "       [1, 2, 1, 5, 0],\n",
       "       [3, 9, 0, 4, 0],\n",
       "       [1, 1, 2, 4, 0]])"
      ]
     },
     "execution_count": 6,
     "metadata": {},
     "output_type": "execute_result"
    }
   ],
   "source": [
    "# Redukcja macierzy\n",
    "mat_n = reduce_matrix(mat_gl, inplace=False)\n",
    "mat_n"
   ]
  },
  {
   "cell_type": "code",
   "execution_count": 7,
   "metadata": {},
   "outputs": [],
   "source": [
    "def independent_zeros(matrix):\n",
    "    \"\"\"Choose independent zeros and fill in dependent with -1\"\"\"\n",
    "    a, b = matrix.shape\n",
    "    row_free = [i for i in range(a)]\n",
    "    col_free = [i for i in range(b)]\n",
    "    result = matrix.copy()\n",
    "    pos = []\n",
    "\n",
    "    for i in range(a):\n",
    "        for j in range(b):\n",
    "            if result[i][j] == 0:\n",
    "                if i in row_free and j in col_free:\n",
    "                    pos.append((i,j))\n",
    "                    row_free.remove(i)\n",
    "                    col_free.remove(j)\n",
    "                else:\n",
    "                    result[i][j] = -1\n",
    "    return result, pos"
   ]
  },
  {
   "cell_type": "code",
   "execution_count": 8,
   "metadata": {},
   "outputs": [
    {
     "data": {
      "text/plain": [
       "(array([[ 0, -1,  1, -1,  5],\n",
       "        [ 1,  6,  2,  0,  3],\n",
       "        [ 1,  2,  1,  5,  0],\n",
       "        [ 3,  9,  0,  4, -1],\n",
       "        [ 1,  1,  2,  4, -1]]),\n",
       " [(0, 0), (1, 3), (2, 4), (3, 2)])"
      ]
     },
     "execution_count": 8,
     "metadata": {},
     "output_type": "execute_result"
    }
   ],
   "source": [
    "mat, pos = independent_zeros(mat_n)\n",
    "mat, pos"
   ]
  },
  {
   "cell_type": "code",
   "execution_count": 9,
   "metadata": {},
   "outputs": [],
   "source": [
    "def find_best_pos(n, pos):\n",
    "    \"\"\"Szukamy najlepszej kombinacji zer niezaleznych\"\"\"\n",
    "    pos_new = []\n",
    "\n",
    "    while len(pos) != 0:\n",
    "        dic_pos_x = {}\n",
    "\n",
    "        # Wpisujesz wszystkie wiersze\n",
    "        for i in range(n):\n",
    "            dic_pos_x[i] = 0\n",
    "\n",
    "        # Zaznaczasz te ktore maja zera\n",
    "        for i,j in pos:\n",
    "            dic_pos_x[i] += 1\n",
    "\n",
    "        unique_row = []\n",
    "\n",
    "        for key,val in dic_pos_x.items():\n",
    "            if val == 1:\n",
    "                unique_row.append(key)\n",
    "\n",
    "        ## add to return this rows\n",
    "        col_to_remove = []\n",
    "        for i,j in pos:\n",
    "            if i in unique_row:\n",
    "                pos_new.append((i,j))\n",
    "                col_to_remove.append(j)\n",
    "\n",
    "        ## remove from pos this col\n",
    "        acc = 0\n",
    "        while True:\n",
    "            i,j = pos[acc]\n",
    "            if j in col_to_remove:\n",
    "                pos.remove((i,j))\n",
    "            else:\n",
    "                acc += 1\n",
    "            if acc == len(pos):\n",
    "                break\n",
    "        # print(pos)\n",
    "    return pos_new"
   ]
  },
  {
   "cell_type": "code",
   "execution_count": 10,
   "metadata": {},
   "outputs": [],
   "source": [
    "### Rodzaj danych\n",
    "## lista tupli\n",
    "\n",
    "arr = [(1,1), (2,4), (3,5),(4,3)]\n",
    "\n",
    "\n",
    "def cross_zeros(matrix, lis_of_tuple):\n",
    "    \"\"\"Funkcja wykreslajaca\"\"\"\n",
    "    a,b = matrix.shape\n",
    "    rows = [i for i,j in lis_of_tuple]\n",
    "    cols = [j for i,j in lis_of_tuple]\n",
    "\n",
    "    row_0free = []\n",
    "    for i in range(a):\n",
    "        if i not in rows:\n",
    "            row_0free.append(i)\n",
    "    \n",
    "    col_0free = []\n",
    "    res_col = np.where(mat == -1)\n",
    "    for i in res_col:\n",
    "        col_0free.append(i[1])\n",
    "    \n",
    "    col_0plus = []\n",
    "    res_col = np.where(mat == 0 )\n",
    "    for i in res_col:\n",
    "        col_0plus.append(i[1])\n",
    "    \n",
    "    matx = mat.copy()\n",
    "    z = 0\n",
    "    for i in row_0free:\n",
    "        matx = np.delete(matx, i - z, 1)\n",
    "        z += 1\n",
    "\n",
    "    # print(row_0free)\n",
    "    z = 0\n",
    "    row = []\n",
    "    for i in col_0free:\n",
    "        row.append(i)\n",
    "\n",
    "    for i in col_0plus:\n",
    "        row.append(i)\n",
    "\n",
    "    row.sort()\n",
    "    for i in range(len(row) - 1):\n",
    "        if row[i] == row[i + 1]:\n",
    "            row.pop(i)\n",
    "            i -= 1\n",
    "    # print(row)\n",
    "    z = 0\n",
    "    for i in row:\n",
    "        matx = np.delete(matx, i - z, 0)\n",
    "        z += 1\n",
    "\n",
    "    # print(row)\n",
    "    # print(row_0free)\n",
    "    if len(row) + len(row_0free) < mat.shape[0]:\n",
    "        dic_row = {}\n",
    "        dic_col = {}\n",
    "        acc1 = 0\n",
    "        acc2 = 0\n",
    "        for i in range(a):\n",
    "            if i not in row:\n",
    "                dic_row[acc1] = i\n",
    "                acc1 += 1\n",
    "            if i not in row_0free:\n",
    "                dic_col[acc2] = i\n",
    "                acc2 += 1\n",
    "        \n",
    "        # print(dic_col)\n",
    "        # print(dic_row)\n",
    "        mat_del = reduce_matrix(matx)\n",
    "        # print(mat_del)\n",
    "        new_pos, new_zeros = independent_zeros(mat_del)\n",
    "        for val1,val2 in new_zeros:\n",
    "            # print(val1)\n",
    "            lis_of_tuple.append((dic_row[val1], dic_col[val2]))\n",
    "    \n",
    "    lis_pos = [i for i in range(mat.shape[0])]\n",
    "    # print(lis_pos)\n",
    "\n",
    "    ## make unique\n",
    "    list_of_tuple_enchanted = []\n",
    "    for i,j in lis_of_tuple:\n",
    "        if (i,j) not in list_of_tuple_enchanted:\n",
    "            list_of_tuple_enchanted.append((i,j))\n",
    "    # print(list_of_tuple_enchanted)\n",
    "\n",
    "    ## dict mozliwych pozycji na jednym miejscu\n",
    "    ## funckja do twego najlepiej\n",
    "    new_pos_zero = find_best_pos(mat.shape[0], list_of_tuple_enchanted)\n",
    "    \n",
    "    mat_out = np.zeros((mat.shape))\n",
    "    for i,j in new_pos_zero:\n",
    "        mat_out[i,j] = 1\n",
    "\n",
    "\n",
    "    return mat_out"
   ]
  },
  {
   "cell_type": "code",
   "execution_count": 12,
   "metadata": {},
   "outputs": [
    {
     "name": "stdout",
     "output_type": "stream",
     "text": [
      "[[1. 0. 0. 0. 0.]\n",
      " [0. 0. 0. 1. 0.]\n",
      " [0. 0. 0. 0. 1.]\n",
      " [0. 0. 1. 0. 0.]\n",
      " [0. 1. 0. 0. 0.]]\n"
     ]
    }
   ],
   "source": [
    "mat_cros = cross_zeros(mat_gl, pos)\n",
    "print(mat_cros)"
   ]
  },
  {
   "cell_type": "markdown",
   "metadata": {},
   "source": [
    "# Zadanie 3\n",
    "\n",
    "\n",
    "1. Wykonując redukcję najpierw po wierszach, a następnie po kolumnach uzyskamy inną macierz zredukowaną, niż przy redukcji kolumny-wiersze (zera będą miały te same lokalizacje).\n",
    "\n",
    "2. Minimalna ilość zer niezależnych dla macierzy zredukowanej NxN wynosi 1, gdy zera wszystkich wierszów znajdują się w pierwszej kolumnie ORAZ zera wszystkich kolumn znajdują się w pierwszym wierszu. Maksymalna ilość zer niezależnych dla macierzy zredukowanej NxN wynosi N i występuje gdy dla każdego wiersza/kolumny przynajmniej jedno z zer jest zerem niezależnym.\n",
    "\n",
    "3. Nie bedzie ono prawidlowe, poniewaz moze ono spowodowac ze uzyskamy mniejsza ilosc zer niezaleznych.\n",
    "\n",
    "4. Minimalna liczba linii wykreślających zera występuje dla minimalnej liczby zer niezależnych w macierzy zredukowanej, a maksymalna liczba zer niezależnych spowoduje wystąpienie maksymalnej ilości linii wykreślających zera.\n",
    "\n",
    "5. Procedura zwiekrzania zer niezalezynch nie zawsze jest skuteczna. O ile zwiekrzona zostanie liczba zer niezaleznych zalezy liczba zer zaleznych."
   ]
  }
 ],
 "metadata": {
  "interpreter": {
   "hash": "4823ac0f73e6f43cff2369f93c64e53b715f850adbb7c1fdc597e518a362f12a"
  },
  "kernelspec": {
   "display_name": "Python 3.9.12 64-bit (windows store)",
   "language": "python",
   "name": "python3"
  },
  "language_info": {
   "codemirror_mode": {
    "name": "ipython",
    "version": 3
   },
   "file_extension": ".py",
   "mimetype": "text/x-python",
   "name": "python",
   "nbconvert_exporter": "python",
   "pygments_lexer": "ipython3",
   "version": "3.9.7"
  },
  "orig_nbformat": 4
 },
 "nbformat": 4,
 "nbformat_minor": 2
}
