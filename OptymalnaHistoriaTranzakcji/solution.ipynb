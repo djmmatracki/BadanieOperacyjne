{
 "cells": [
  {
   "cell_type": "markdown",
   "metadata": {},
   "source": [
    "Cel zadania\n",
    "\n",
    "Opracowac strategie najlepszego kupowania akcji pewnej firmy na podstawy wiedzy historycznej.\n",
    "\n",
    "\n",
    "etap - jeden dzien na gieldzie\n",
    "decyzja - ile akcji kupimy (mozemy kupowac tylko calkowite akcje)\n",
    "stan - ile akcji jest aktualnie kupionych\n",
    "\n",
    "funkcja celu\n",
    "\n",
    "- 2 <= x <= 2\n",
    "x >= -y\n",
    "aktualny kapital // cena akcji >= x\n",
    "\n",
    "\n",
    "maksymalizujemy zysk\n",
    "2. max y * cena akcji + aktualny kapital - poczatkowy kapital\n",
    "\n",
    "\n",
    "\n",
    "ogranicznia:\n",
    "- maksymalna liczba akcji ktore mozna kupic ()\n",
    "- minimalna liczba akcji ktore mozna kupic\n",
    "- maksymalna akcji ktore mozna posiadac\n",
    "- aktualny kapital"
   ]
  },
  {
   "cell_type": "code",
   "execution_count": 11,
   "metadata": {},
   "outputs": [],
   "source": [
    "import numpy as np"
   ]
  },
  {
   "cell_type": "code",
   "execution_count": 75,
   "metadata": {},
   "outputs": [
    {
     "name": "stdout",
     "output_type": "stream",
     "text": [
      "Tablica wyliczonych wartosci: \n",
      " [[   0.    2.   80.    2.  140.    2.  200.]\n",
      " [   0.    2.   50.    2.  110.    2.  250.]\n",
      " [   0.    2.   20.    2.   80.    2.  300.]\n",
      " [   0.    1.  -50.    1.  -20.   -1.  350.]\n",
      " [   0.    0. -120.    0. -120.   -1.  450.]]\n"
     ]
    }
   ],
   "source": [
    "def max_profit(kapital_pocz, hist, max_akcji, max_buy_sell):\n",
    "    days = len(hist) - 1\n",
    "    result = [0 for _ in range(days)]\n",
    "    table = np.zeros((max_akcji+1, 2*days+1))\n",
    "    f_col = 2\n",
    "    x_col = 1\n",
    "    etap = days - 1\n",
    "\n",
    "    current = kapital_pocz\n",
    "\n",
    "    while f_col < 2*days + 1:\n",
    "        for y in range(max_akcji+1):\n",
    "            maximum = -np.inf\n",
    "            akcje = 0\n",
    "            for x in range(max(-max_buy_sell, -int(y)), min(current//hist[etap], max_buy_sell, max_akcji-y)+1):\n",
    "                if x+y >= 0 and x+y < max_akcji+1:\n",
    "                    value = hist[etap+1]*(y+x) - hist[etap] * y + table[y+x][f_col]\n",
    "                else:\n",
    "                    value = hist[etap+1]*(y+x) - hist[etap] * y\n",
    "\n",
    "                if value > maximum:\n",
    "                    akcje = x\n",
    "                    maximum = value\n",
    "            \n",
    "            current += akcje*hist[etap]\n",
    "            table[y][f_col] = maximum\n",
    "            table[y][x_col] = akcje\n",
    "        f_col += 2\n",
    "        x_col += 2\n",
    "        etap -= 1\n",
    "    return table\n",
    "\n",
    "print(\"Tablica wyliczonych wartosci: \\n\", max_profit(500, [50, 100, 70, 40], 4, 2))"
   ]
  }
 ],
 "metadata": {
  "interpreter": {
   "hash": "820f51727f103be1762627cc0b637529f4bd87549bb183629dc0e3c29bf24b16"
  },
  "kernelspec": {
   "display_name": "Python 3.9.7 ('venv': venv)",
   "language": "python",
   "name": "python3"
  },
  "language_info": {
   "codemirror_mode": {
    "name": "ipython",
    "version": 3
   },
   "file_extension": ".py",
   "mimetype": "text/x-python",
   "name": "python",
   "nbconvert_exporter": "python",
   "pygments_lexer": "ipython3",
   "version": "3.9.7"
  },
  "orig_nbformat": 4
 },
 "nbformat": 4,
 "nbformat_minor": 2
}
